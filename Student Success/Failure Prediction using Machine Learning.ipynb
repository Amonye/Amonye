{
  "cells": [
    {
      "cell_type": "markdown",
      "metadata": {
        "id": "view-in-github",
        "colab_type": "text"
      },
      "source": [
        "<a href=\"https://colab.research.google.com/github/Amonye/Amonye/blob/main/Student%20Success/Failure%20Prediction%20using%20Machine%20Learning.ipynb\" target=\"_parent\"><img src=\"https://colab.research.google.com/assets/colab-badge.svg\" alt=\"Open In Colab\"/></a>"
      ]
    },
    {
      "cell_type": "code",
      "execution_count": 26,
      "id": "5124906b",
      "metadata": {
        "id": "5124906b"
      },
      "outputs": [],
      "source": [
        "# Import necessary libraries\n",
        "import pandas as pd\n",
        "import numpy as np\n",
        "from sklearn.model_selection import train_test_split\n",
        "from sklearn.ensemble import RandomForestClassifier\n",
        "from sklearn.metrics import accuracy_score, classification_report, confusion_matrix\n",
        "from sklearn.preprocessing import LabelEncoder\n",
        "from sklearn.impute import SimpleImputer\n",
        "\n"
      ]
    },
    {
      "cell_type": "code",
      "execution_count": 27,
      "id": "2f4f8e72",
      "metadata": {
        "id": "2f4f8e72"
      },
      "outputs": [],
      "source": [
        "#In order to import the data, we need to load it onto our notebook\n",
        "#  Load the dataset into a Pandas DataFrame"
      ]
    },
    {
      "cell_type": "code",
      "execution_count": 28,
      "id": "b57397d7",
      "metadata": {
        "id": "b57397d7"
      },
      "outputs": [],
      "source": [
        "# Step 1: Load datasets (example CSV file paths)\n",
        "students_df = pd.read_csv('/content/Tables  - Students Data.csv') #Student record\n",
        "grades_df = pd.read_csv('/content/Tables  - grades.csv')  # Academic history and last exam scores\n",
        "attendance_df = pd.read_csv('/content/Tables  - Attendance_data.csv')  # Attendance data\n",
        "extra_curricular_df = pd.read_csv('/content/Tables  - Extracurricular activities.csv')  # Extracurricular data\n",
        "parent_data_df = pd.read_csv('/content/Tables  - Parent Data.csv')  # Socioeconomic and family involvement data\n",
        "\n"
      ]
    },
    {
      "cell_type": "code",
      "execution_count": 29,
      "id": "2847d536",
      "metadata": {
        "id": "2847d536"
      },
      "outputs": [],
      "source": [
        "students_df.drop(['date_of_birth','street_address', 'date_enrolled'], axis=1, inplace=True)"
      ]
    },
    {
      "cell_type": "code",
      "execution_count": 30,
      "id": "a8c7ee7c",
      "metadata": {
        "id": "a8c7ee7c"
      },
      "outputs": [],
      "source": [
        "# Step 2: Merge datasets on a unique identifier (student_id)\n",
        "merged_df = grades_df.merge(attendance_df, on='student_id', how='left') \\\n",
        "                     .merge(extra_curricular_df, on='student_id', how='left') \\\n",
        "                     .merge(students_df, on = 'student_id', how='left')\n",
        "\n",
        "\n"
      ]
    },
    {
      "cell_type": "code",
      "execution_count": 31,
      "id": "5b4d92e7",
      "metadata": {
        "id": "5b4d92e7"
      },
      "outputs": [],
      "source": [
        "merged_df1 = pd.merge(parent_data_df, students_df, on='parent_id', how='left')\n"
      ]
    },
    {
      "cell_type": "code",
      "execution_count": 32,
      "id": "0d490587",
      "metadata": {
        "id": "0d490587"
      },
      "outputs": [],
      "source": [
        "merged_df2 = pd.merge(merged_df, merged_df1, on='parent_id', how='left')"
      ]
    },
    {
      "cell_type": "code",
      "execution_count": 15,
      "id": "4ea4088c",
      "metadata": {
        "id": "4ea4088c"
      },
      "outputs": [],
      "source": [
        "merged_df2.drop(['parent_id','student_id_x','subject_id','attendance_id','class_id_x','class_id_y','student_id_y','activity_id', 'grade_id'], axis=1, inplace=True)"
      ]
    },
    {
      "cell_type": "code",
      "source": [
        "merged_df2.shape"
      ],
      "metadata": {
        "colab": {
          "base_uri": "https://localhost:8080/"
        },
        "id": "TXUBadsV28Nx",
        "outputId": "aaf7f72b-3808-4f46-fa9f-2af308b32afa"
      },
      "id": "TXUBadsV28Nx",
      "execution_count": 33,
      "outputs": [
        {
          "output_type": "execute_result",
          "data": {
            "text/plain": [
              "(10182120, 39)"
            ]
          },
          "metadata": {},
          "execution_count": 33
        }
      ]
    },
    {
      "cell_type": "code",
      "source": [
        "# We reduce sample size and work with top valid rows due to extra rows at the bottom\n",
        "\n",
        "# Get the total number of rows in the DataFrame\n",
        "total_rows = len(merged_df2)\n",
        "\n",
        "# Drop the bottom 500,000 rows using iloc\n",
        "merged_df2 = merged_df2.iloc[:total_rows - 9000000]\n"
      ],
      "metadata": {
        "id": "US3EY3493hMN"
      },
      "id": "US3EY3493hMN",
      "execution_count": 34,
      "outputs": []
    },
    {
      "cell_type": "code",
      "source": [
        "merged_df2.shape"
      ],
      "metadata": {
        "colab": {
          "base_uri": "https://localhost:8080/"
        },
        "id": "cpVfzwDT30ej",
        "outputId": "d109cc10-b5f3-4cd8-d15a-2de15ab283a5"
      },
      "id": "cpVfzwDT30ej",
      "execution_count": 35,
      "outputs": [
        {
          "output_type": "execute_result",
          "data": {
            "text/plain": [
              "(1182120, 39)"
            ]
          },
          "metadata": {},
          "execution_count": 35
        }
      ]
    },
    {
      "cell_type": "code",
      "execution_count": 36,
      "id": "128b2024",
      "metadata": {
        "colab": {
          "base_uri": "https://localhost:8080/",
          "height": 890
        },
        "id": "128b2024",
        "outputId": "19bf121b-134c-497d-cf20-2f93ce9cdaee"
      },
      "outputs": [
        {
          "output_type": "execute_result",
          "data": {
            "text/plain": [
              "array([[<Axes: title={'center': 'grade_id'}>,\n",
              "        <Axes: title={'center': 'student_id_x'}>,\n",
              "        <Axes: title={'center': 'subject_id'}>,\n",
              "        <Axes: title={'center': 'first_test'}>],\n",
              "       [<Axes: title={'center': 'second_test'}>,\n",
              "        <Axes: title={'center': 'exam'}>,\n",
              "        <Axes: title={'center': 'total_score'}>,\n",
              "        <Axes: title={'center': 'academic_year'}>],\n",
              "       [<Axes: title={'center': 'attendance_id'}>,\n",
              "        <Axes: title={'center': 'activity_id'}>,\n",
              "        <Axes: title={'center': 'hours_spent'}>,\n",
              "        <Axes: title={'center': 'parent_id'}>],\n",
              "       [<Axes: title={'center': 'class_id_x'}>,\n",
              "        <Axes: title={'center': 'age_x'}>,\n",
              "        <Axes: title={'center': 'student_id_y'}>,\n",
              "        <Axes: title={'center': 'class_id_y'}>],\n",
              "       [<Axes: title={'center': 'age_y'}>, <Axes: >, <Axes: >, <Axes: >]],\n",
              "      dtype=object)"
            ]
          },
          "metadata": {},
          "execution_count": 36
        },
        {
          "output_type": "display_data",
          "data": {
            "text/plain": [
              "<Figure size 2000x1500 with 20 Axes>"
            ],
            "image/png": "[encoded data removed]"
          },
          "metadata": {}
        }
      ],
      "source": [
        "#Visualisation of variables in our data for evaluation\n",
        "merged_df2.hist(bins=50, figsize=(20,15))"
      ]
    },
    {
      "cell_type": "code",
      "execution_count": 37,
      "id": "c8cab9f4",
      "metadata": {
        "id": "c8cab9f4",
        "colab": {
          "base_uri": "https://localhost:8080/",
          "height": 670
        },
        "outputId": "8d0f0314-701c-4b6b-9d12-22df8b4c5c1a"
      },
      "outputs": [
        {
          "output_type": "execute_result",
          "data": {
            "text/plain": [
              "<Axes: ylabel='count'>"
            ]
          },
          "metadata": {},
          "execution_count": 37
        },
        {
          "output_type": "display_data",
          "data": {
            "text/plain": [
              "<Figure size 800x800 with 1 Axes>"
            ],
            "image/png": "[encoded data removed]"
          },
          "metadata": {}
        }
      ],
      "source": [
        "# Pie chart for income_bracket showing that there are more low and medium income earners in the school than the high income earners\n",
        "merged_df2['income_bracket'].value_counts().plot(kind='pie', autopct='%1.1f%%', figsize=(8,8))\n"
      ]
    },
    {
      "cell_type": "code",
      "execution_count": 39,
      "id": "5bec70e0",
      "metadata": {
        "id": "5bec70e0",
        "outputId": "3b3b71f8-6430-4054-91d5-9073d3990a76",
        "colab": {
          "base_uri": "https://localhost:8080/"
        }
      },
      "outputs": [
        {
          "output_type": "execute_result",
          "data": {
            "text/plain": [
              "(1182120, 39)"
            ]
          },
          "metadata": {},
          "execution_count": 39
        }
      ],
      "source": [
        "#statistical summary of data set\n",
        "merged_df2.shape"
      ]
    },
    {
      "cell_type": "code",
      "execution_count": 40,
      "id": "814dd9bb",
      "metadata": {
        "id": "814dd9bb",
        "outputId": "6fd94b18-c381-428a-89ff-5d1ae11bc6f0",
        "colab": {
          "base_uri": "https://localhost:8080/"
        }
      },
      "outputs": [
        {
          "output_type": "stream",
          "name": "stdout",
          "text": [
            "Attendance Rate: 81.03%\n"
          ]
        }
      ],
      "source": [
        "# Step 1: Map 'Present' and 'Absent' to 1 and 0, and ignore NaN\n",
        "merged_df2['attendance_numeric'] = merged_df2['status'].map({'Present': 1, 'Absent': 0})\n",
        "\n",
        "# Step 2: Drop rows where 'attendance_numeric' is NaN\n",
        "cleaned_df = merged_df2.dropna(subset=['attendance_numeric'])\n",
        "\n",
        "# Step 3: Calculate attendance rate as a percentage\n",
        "attendance_rate = cleaned_df['attendance_numeric'].mean() * 100\n",
        "\n",
        "#This shows the attendance rate based on the variability in income level\n",
        "print(\"Attendance Rate: {:.2f}%\".format(attendance_rate))\n"
      ]
    },
    {
      "cell_type": "code",
      "execution_count": 41,
      "id": "5acf347f",
      "metadata": {
        "id": "5acf347f"
      },
      "outputs": [],
      "source": [
        "# Moving onto other variables. we create a binary column for extracurricular involvement (1 for Yes, 0 for No)\n",
        "merged_df2['extracurricular_involvement'] = merged_df2['hours_spent'].apply(lambda x: 1 if x == 'Yes' else 0)"
      ]
    },
    {
      "cell_type": "code",
      "execution_count": 42,
      "id": "3583e949",
      "metadata": {
        "id": "3583e949",
        "outputId": "4281343e-0031-4b96-dfa4-d512ecd21aba",
        "colab": {
          "base_uri": "https://localhost:8080/",
          "height": 1000
        }
      },
      "outputs": [
        {
          "output_type": "execute_result",
          "data": {
            "text/plain": [
              "grade_id                       0\n",
              "student_id_x                   0\n",
              "subject_id                     0\n",
              "first_test                     0\n",
              "second_test                    0\n",
              "exam                           0\n",
              "total_score                    0\n",
              "grade                          0\n",
              "academic_year                  0\n",
              "term                           0\n",
              "created_at                     0\n",
              "attendance_id                  0\n",
              "date_x                         0\n",
              "status                         0\n",
              "activity_id                    0\n",
              "activity_name                  0\n",
              "date_y                         0\n",
              "hours_spent                    0\n",
              "first_name                     0\n",
              "last_name                      0\n",
              "parent_id                      0\n",
              "class_id_x                     0\n",
              "gender_x                       0\n",
              "is_repeating_x                 0\n",
              "age_x                          0\n",
              "city_x                         0\n",
              "first_name_x                   0\n",
              "last_name_x                    0\n",
              "occupation                     0\n",
              "education_level                0\n",
              "income_bracket                 0\n",
              "student_id_y                   0\n",
              "first_name_y                   0\n",
              "last_name_y                    0\n",
              "class_id_y                     0\n",
              "gender_y                       0\n",
              "is_repeating_y                 0\n",
              "age_y                          0\n",
              "city_y                         0\n",
              "attendance_numeric             0\n",
              "extracurricular_involvement    0\n",
              "dtype: int64"
            ],
            "text/html": [
              "<div>\n",
              "<style scoped>\n",
              "    .dataframe tbody tr th:only-of-type {\n",
              "        vertical-align: middle;\n",
              "    }\n",
              "\n",
              "    .dataframe tbody tr th {\n",
              "        vertical-align: top;\n",
              "    }\n",
              "\n",
              "    .dataframe thead th {\n",
              "        text-align: right;\n",
              "    }\n",
              "</style>\n",
              "<table border=\"1\" class=\"dataframe\">\n",
              "  <thead>\n",
              "    <tr style=\"text-align: right;\">\n",
              "      <th></th>\n",
              "      <th>0</th>\n",
              "    </tr>\n",
              "  </thead>\n",
              "  <tbody>\n",
              "    <tr>\n",
              "      <th>grade_id</th>\n",
              "      <td>0</td>\n",
              "    </tr>\n",
              "    <tr>\n",
              "      <th>student_id_x</th>\n",
              "      <td>0</td>\n",
              "    </tr>\n",
              "    <tr>\n",
              "      <th>subject_id</th>\n",
              "      <td>0</td>\n",
              "    </tr>\n",
              "    <tr>\n",
              "      <th>first_test</th>\n",
              "      <td>0</td>\n",
              "    </tr>\n",
              "    <tr>\n",
              "      <th>second_test</th>\n",
              "      <td>0</td>\n",
              "    </tr>\n",
              "    <tr>\n",
              "      <th>exam</th>\n",
              "      <td>0</td>\n",
              "    </tr>\n",
              "    <tr>\n",
              "      <th>total_score</th>\n",
              "      <td>0</td>\n",
              "    </tr>\n",
              "    <tr>\n",
              "      <th>grade</th>\n",
              "      <td>0</td>\n",
              "    </tr>\n",
              "    <tr>\n",
              "      <th>academic_year</th>\n",
              "      <td>0</td>\n",
              "    </tr>\n",
              "    <tr>\n",
              "      <th>term</th>\n",
              "      <td>0</td>\n",
              "    </tr>\n",
              "    <tr>\n",
              "      <th>created_at</th>\n",
              "      <td>0</td>\n",
              "    </tr>\n",
              "    <tr>\n",
              "      <th>attendance_id</th>\n",
              "      <td>0</td>\n",
              "    </tr>\n",
              "    <tr>\n",
              "      <th>date_x</th>\n",
              "      <td>0</td>\n",
              "    </tr>\n",
              "    <tr>\n",
              "      <th>status</th>\n",
              "      <td>0</td>\n",
              "    </tr>\n",
              "    <tr>\n",
              "      <th>activity_id</th>\n",
              "      <td>0</td>\n",
              "    </tr>\n",
              "    <tr>\n",
              "      <th>activity_name</th>\n",
              "      <td>0</td>\n",
              "    </tr>\n",
              "    <tr>\n",
              "      <th>date_y</th>\n",
              "      <td>0</td>\n",
              "    </tr>\n",
              "    <tr>\n",
              "      <th>hours_spent</th>\n",
              "      <td>0</td>\n",
              "    </tr>\n",
              "    <tr>\n",
              "      <th>first_name</th>\n",
              "      <td>0</td>\n",
              "    </tr>\n",
              "    <tr>\n",
              "      <th>last_name</th>\n",
              "      <td>0</td>\n",
              "    </tr>\n",
              "    <tr>\n",
              "      <th>parent_id</th>\n",
              "      <td>0</td>\n",
              "    </tr>\n",
              "    <tr>\n",
              "      <th>class_id_x</th>\n",
              "      <td>0</td>\n",
              "    </tr>\n",
              "    <tr>\n",
              "      <th>gender_x</th>\n",
              "      <td>0</td>\n",
              "    </tr>\n",
              "    <tr>\n",
              "      <th>is_repeating_x</th>\n",
              "      <td>0</td>\n",
              "    </tr>\n",
              "    <tr>\n",
              "      <th>age_x</th>\n",
              "      <td>0</td>\n",
              "    </tr>\n",
              "    <tr>\n",
              "      <th>city_x</th>\n",
              "      <td>0</td>\n",
              "    </tr>\n",
              "    <tr>\n",
              "      <th>first_name_x</th>\n",
              "      <td>0</td>\n",
              "    </tr>\n",
              "    <tr>\n",
              "      <th>last_name_x</th>\n",
              "      <td>0</td>\n",
              "    </tr>\n",
              "    <tr>\n",
              "      <th>occupation</th>\n",
              "      <td>0</td>\n",
              "    </tr>\n",
              "    <tr>\n",
              "      <th>education_level</th>\n",
              "      <td>0</td>\n",
              "    </tr>\n",
              "    <tr>\n",
              "      <th>income_bracket</th>\n",
              "      <td>0</td>\n",
              "    </tr>\n",
              "    <tr>\n",
              "      <th>student_id_y</th>\n",
              "      <td>0</td>\n",
              "    </tr>\n",
              "    <tr>\n",
              "      <th>first_name_y</th>\n",
              "      <td>0</td>\n",
              "    </tr>\n",
              "    <tr>\n",
              "      <th>last_name_y</th>\n",
              "      <td>0</td>\n",
              "    </tr>\n",
              "    <tr>\n",
              "      <th>class_id_y</th>\n",
              "      <td>0</td>\n",
              "    </tr>\n",
              "    <tr>\n",
              "      <th>gender_y</th>\n",
              "      <td>0</td>\n",
              "    </tr>\n",
              "    <tr>\n",
              "      <th>is_repeating_y</th>\n",
              "      <td>0</td>\n",
              "    </tr>\n",
              "    <tr>\n",
              "      <th>age_y</th>\n",
              "      <td>0</td>\n",
              "    </tr>\n",
              "    <tr>\n",
              "      <th>city_y</th>\n",
              "      <td>0</td>\n",
              "    </tr>\n",
              "    <tr>\n",
              "      <th>attendance_numeric</th>\n",
              "      <td>0</td>\n",
              "    </tr>\n",
              "    <tr>\n",
              "      <th>extracurricular_involvement</th>\n",
              "      <td>0</td>\n",
              "    </tr>\n",
              "  </tbody>\n",
              "</table>\n",
              "</div><br><label><b>dtype:</b> int64</label>"
            ]
          },
          "metadata": {},
          "execution_count": 42
        }
      ],
      "source": [
        "#This is to re-check if there are still any Null value that may affect our analysis\n",
        "merged_df2.isna().sum()"
      ]
    },
    {
      "cell_type": "markdown",
      "source": [
        "Now that the Null values are clear, we use a simple inputer to  cover any gaps using the statistics (mean, median or most frequent) of each column in which the missing values are located"
      ],
      "metadata": {
        "id": "prgtr5DJu89e"
      },
      "id": "prgtr5DJu89e"
    },
    {
      "cell_type": "code",
      "source": [
        "from sklearn.impute import SimpleImputer\n",
        "\n",
        "# Step 1: Convert 'Present' and 'Absent' in 'status' column to numeric values\n",
        "merged_df2['status'] = merged_df2['status'].map({'Present': 1, 'Absent': 0})\n",
        "\n",
        "# Step 2: Handle missing values (if any)\n",
        "\n",
        "# Separate columns based on data type\n",
        "numeric_columns = merged_df2.select_dtypes(include=['float64', 'int64']).columns\n",
        "categorical_columns = merged_df2.select_dtypes(include=['object']).columns\n",
        "\n",
        "# Filter out columns with all NaN values for numeric columns\n",
        "numeric_columns_to_impute = [col for col in numeric_columns if merged_df2[col].notna().any()]\n",
        "\n",
        "# Filter out columns with object type for numeric columns\n",
        "numeric_columns_to_impute = [col for col in numeric_columns_to_impute if merged_df2[col].dtype != 'object']\n",
        "\n",
        "# Impute missing values for filtered numeric columns using 'median'\n",
        "numeric_imputer = SimpleImputer(strategy='median')\n",
        "merged_df2[numeric_columns_to_impute] = numeric_imputer.fit_transform(merged_df2[numeric_columns_to_impute])\n",
        "\n",
        "# Impute missing values for categorical columns using 'most_frequent'\n",
        "categorical_imputer = SimpleImputer(strategy='most_frequent')\n",
        "merged_df2[categorical_columns] = categorical_imputer.fit_transform(merged_df2[categorical_columns])"
      ],
      "metadata": {
        "id": "8Qu06J47uu_H"
      },
      "id": "8Qu06J47uu_H",
      "execution_count": 45,
      "outputs": []
    },
    {
      "cell_type": "code",
      "execution_count": 48,
      "id": "60419af2",
      "metadata": {
        "id": "60419af2"
      },
      "outputs": [],
      "source": [
        "# Step 5: Define the target variable (pass/fail based on the last term score)\n",
        "# Let's assume 'last_exam_score' is available, with pass as >= 50\n",
        "merged_df2['pass_fail'] = merged_df2['total_score'].apply(lambda x: 1 if x >= 50 else 0)\n",
        "\n"
      ]
    },
    {
      "cell_type": "markdown",
      "source": [
        "Having sorted our data. we can then start building our machine learning model"
      ],
      "metadata": {
        "id": "iQna9OOLvtbu"
      },
      "id": "iQna9OOLvtbu"
    },
    {
      "cell_type": "code",
      "execution_count": 49,
      "id": "58694710",
      "metadata": {
        "id": "58694710"
      },
      "outputs": [],
      "source": [
        "# Step 6: Prepare features (X) and target (y)\n",
        "# Selecting key factors affecting exam outcome (excluding previous exam records but including current exam)\n",
        "X = merged_df2[['status', 'hours_spent', 'income_bracket', 'extracurricular_involvement']]  # Add other factors as needed\n",
        "y = merged_df2['pass_fail']\n",
        "\n"
      ]
    },
    {
      "cell_type": "code",
      "execution_count": 50,
      "id": "56cbf4da",
      "metadata": {
        "id": "56cbf4da"
      },
      "outputs": [],
      "source": [
        "# Step 7: Train-Test Split (80-20 split)\n",
        "X_train, X_test, y_train, y_test = train_test_split(X, y, test_size=0.2, random_state=42)\n",
        "\n"
      ]
    },
    {
      "cell_type": "code",
      "source": [
        "print(X_train.columns)"
      ],
      "metadata": {
        "colab": {
          "base_uri": "https://localhost:8080/"
        },
        "id": "MZ0RvX3cewAZ",
        "outputId": "12522a6b-d56a-4efc-fe12-a274d725bbeb"
      },
      "id": "MZ0RvX3cewAZ",
      "execution_count": 51,
      "outputs": [
        {
          "output_type": "stream",
          "name": "stdout",
          "text": [
            "Index(['status', 'hours_spent', 'income_bracket',\n",
            "       'extracurricular_involvement'],\n",
            "      dtype='object')\n"
          ]
        }
      ]
    },
    {
      "cell_type": "code",
      "source": [
        "print(X_test.columns)"
      ],
      "metadata": {
        "colab": {
          "base_uri": "https://localhost:8080/"
        },
        "id": "24BUQWiRg1Js",
        "outputId": "6ee5f09b-5b4d-4bb3-818b-9f32c5df49f8"
      },
      "id": "24BUQWiRg1Js",
      "execution_count": 52,
      "outputs": [
        {
          "output_type": "stream",
          "name": "stdout",
          "text": [
            "Index(['status', 'hours_spent', 'income_bracket',\n",
            "       'extracurricular_involvement'],\n",
            "      dtype='object')\n"
          ]
        }
      ]
    },
    {
      "cell_type": "code",
      "source": [
        "# Step 8: Build the RandomForestClassifier model\n",
        "# Convert 'status' column to numerical representation using one-hot encoding\n",
        "from sklearn.ensemble import RandomForestClassifier\n",
        "import pandas as pd # Make sure pandas is imported\n",
        "\n",
        "# Create dummies only for the original categorical columns\n",
        "X_train = pd.get_dummies(X_train, columns=['status', 'income_bracket', 'extracurricular_involvement'])\n",
        "# hours_spent is likely already numerical\n",
        "\n",
        "\n",
        "# Now fit the model with the transformed data\n",
        "model = RandomForestClassifier(n_estimators=100, random_state=42)\n",
        "model.fit(X_train, y_train)"
      ],
      "metadata": {
        "colab": {
          "base_uri": "https://localhost:8080/",
          "height": 80
        },
        "id": "KXG5GnhtvnNs",
        "outputId": "7f9b1240-d21d-42b6-e75b-d61725a077ea"
      },
      "id": "KXG5GnhtvnNs",
      "execution_count": 54,
      "outputs": [
        {
          "output_type": "execute_result",
          "data": {
            "text/plain": [
              "RandomForestClassifier(random_state=42)"
            ],
            "text/html": [
              "<style>#sk-container-id-1 {\n",
              "  /* Definition of color scheme common for light and dark mode */\n",
              "  --sklearn-color-text: black;\n",
              "  --sklearn-color-line: gray;\n",
              "  /* Definition of color scheme for unfitted estimators */\n",
              "  --sklearn-color-unfitted-level-0: #fff5e6;\n",
              "  --sklearn-color-unfitted-level-1: #f6e4d2;\n",
              "  --sklearn-color-unfitted-level-2: #ffe0b3;\n",
              "  --sklearn-color-unfitted-level-3: chocolate;\n",
              "  /* Definition of color scheme for fitted estimators */\n",
              "  --sklearn-color-fitted-level-0: #f0f8ff;\n",
              "  --sklearn-color-fitted-level-1: #d4ebff;\n",
              "  --sklearn-color-fitted-level-2: #b3dbfd;\n",
              "  --sklearn-color-fitted-level-3: cornflowerblue;\n",
              "\n",
              "  /* Specific color for light theme */\n",
              "  --sklearn-color-text-on-default-background: var(--sg-text-color, var(--theme-code-foreground, var(--jp-content-font-color1, black)));\n",
              "  --sklearn-color-background: var(--sg-background-color, var(--theme-background, var(--jp-layout-color0, white)));\n",
              "  --sklearn-color-border-box: var(--sg-text-color, var(--theme-code-foreground, var(--jp-content-font-color1, black)));\n",
              "  --sklearn-color-icon: #696969;\n",
              "\n",
              "  @media (prefers-color-scheme: dark) {\n",
              "    /* Redefinition of color scheme for dark theme */\n",
              "    --sklearn-color-text-on-default-background: var(--sg-text-color, var(--theme-code-foreground, var(--jp-content-font-color1, white)));\n",
              "    --sklearn-color-background: var(--sg-background-color, var(--theme-background, var(--jp-layout-color0, #111)));\n",
              "    --sklearn-color-border-box: var(--sg-text-color, var(--theme-code-foreground, var(--jp-content-font-color1, white)));\n",
              "    --sklearn-color-icon: #878787;\n",
              "  }\n",
              "}\n",
              "\n",
              "#sk-container-id-1 {\n",
              "  color: var(--sklearn-color-text);\n",
              "}\n",
              "\n",
              "#sk-container-id-1 pre {\n",
              "  padding: 0;\n",
              "}\n",
              "\n",
              "#sk-container-id-1 input.sk-hidden--visually {\n",
              "  border: 0;\n",
              "  clip: rect(1px 1px 1px 1px);\n",
              "  clip: rect(1px, 1px, 1px, 1px);\n",
              "  height: 1px;\n",
              "  margin: -1px;\n",
              "  overflow: hidden;\n",
              "  padding: 0;\n",
              "  position: absolute;\n",
              "  width: 1px;\n",
              "}\n",
              "\n",
              "#sk-container-id-1 div.sk-dashed-wrapped {\n",
              "  border: 1px dashed var(--sklearn-color-line);\n",
              "  margin: 0 0.4em 0.5em 0.4em;\n",
              "  box-sizing: border-box;\n",
              "  padding-bottom: 0.4em;\n",
              "  background-color: var(--sklearn-color-background);\n",
              "}\n",
              "\n",
              "#sk-container-id-1 div.sk-container {\n",
              "  /* jupyter's `normalize.less` sets `[hidden] { display: none; }`\n",
              "     but bootstrap.min.css set `[hidden] { display: none !important; }`\n",
              "     so we also need the `!important` here to be able to override the\n",
              "     default hidden behavior on the sphinx rendered scikit-learn.org.\n",
              "     See: https://github.com/scikit-learn/scikit-learn/issues/21755 */\n",
              "  display: inline-block !important;\n",
              "  position: relative;\n",
              "}\n",
              "\n",
              "#sk-container-id-1 div.sk-text-repr-fallback {\n",
              "  display: none;\n",
              "}\n",
              "\n",
              "div.sk-parallel-item,\n",
              "div.sk-serial,\n",
              "div.sk-item {\n",
              "  /* draw centered vertical line to link estimators */\n",
              "  background-image: linear-gradient(var(--sklearn-color-text-on-default-background), var(--sklearn-color-text-on-default-background));\n",
              "  background-size: 2px 100%;\n",
              "  background-repeat: no-repeat;\n",
              "  background-position: center center;\n",
              "}\n",
              "\n",
              "/* Parallel-specific style estimator block */\n",
              "\n",
              "#sk-container-id-1 div.sk-parallel-item::after {\n",
              "  content: \"\";\n",
              "  width: 100%;\n",
              "  border-bottom: 2px solid var(--sklearn-color-text-on-default-background);\n",
              "  flex-grow: 1;\n",
              "}\n",
              "\n",
              "#sk-container-id-1 div.sk-parallel {\n",
              "  display: flex;\n",
              "  align-items: stretch;\n",
              "  justify-content: center;\n",
              "  background-color: var(--sklearn-color-background);\n",
              "  position: relative;\n",
              "}\n",
              "\n",
              "#sk-container-id-1 div.sk-parallel-item {\n",
              "  display: flex;\n",
              "  flex-direction: column;\n",
              "}\n",
              "\n",
              "#sk-container-id-1 div.sk-parallel-item:first-child::after {\n",
              "  align-self: flex-end;\n",
              "  width: 50%;\n",
              "}\n",
              "\n",
              "#sk-container-id-1 div.sk-parallel-item:last-child::after {\n",
              "  align-self: flex-start;\n",
              "  width: 50%;\n",
              "}\n",
              "\n",
              "#sk-container-id-1 div.sk-parallel-item:only-child::after {\n",
              "  width: 0;\n",
              "}\n",
              "\n",
              "/* Serial-specific style estimator block */\n",
              "\n",
              "#sk-container-id-1 div.sk-serial {\n",
              "  display: flex;\n",
              "  flex-direction: column;\n",
              "  align-items: center;\n",
              "  background-color: var(--sklearn-color-background);\n",
              "  padding-right: 1em;\n",
              "  padding-left: 1em;\n",
              "}\n",
              "\n",
              "\n",
              "/* Toggleable style: style used for estimator/Pipeline/ColumnTransformer box that is\n",
              "clickable and can be expanded/collapsed.\n",
              "- Pipeline and ColumnTransformer use this feature and define the default style\n",
              "- Estimators will overwrite some part of the style using the `sk-estimator` class\n",
              "*/\n",
              "\n",
              "/* Pipeline and ColumnTransformer style (default) */\n",
              "\n",
              "#sk-container-id-1 div.sk-toggleable {\n",
              "  /* Default theme specific background. It is overwritten whether we have a\n",
              "  specific estimator or a Pipeline/ColumnTransformer */\n",
              "  background-color: var(--sklearn-color-background);\n",
              "}\n",
              "\n",
              "/* Toggleable label */\n",
              "#sk-container-id-1 label.sk-toggleable__label {\n",
              "  cursor: pointer;\n",
              "  display: block;\n",
              "  width: 100%;\n",
              "  margin-bottom: 0;\n",
              "  padding: 0.5em;\n",
              "  box-sizing: border-box;\n",
              "  text-align: center;\n",
              "}\n",
              "\n",
              "#sk-container-id-1 label.sk-toggleable__label-arrow:before {\n",
              "  /* Arrow on the left of the label */\n",
              "  content: \"▸\";\n",
              "  float: left;\n",
              "  margin-right: 0.25em;\n",
              "  color: var(--sklearn-color-icon);\n",
              "}\n",
              "\n",
              "#sk-container-id-1 label.sk-toggleable__label-arrow:hover:before {\n",
              "  color: var(--sklearn-color-text);\n",
              "}\n",
              "\n",
              "/* Toggleable content - dropdown */\n",
              "\n",
              "#sk-container-id-1 div.sk-toggleable__content {\n",
              "  max-height: 0;\n",
              "  max-width: 0;\n",
              "  overflow: hidden;\n",
              "  text-align: left;\n",
              "  /* unfitted */\n",
              "  background-color: var(--sklearn-color-unfitted-level-0);\n",
              "}\n",
              "\n",
              "#sk-container-id-1 div.sk-toggleable__content.fitted {\n",
              "  /* fitted */\n",
              "  background-color: var(--sklearn-color-fitted-level-0);\n",
              "}\n",
              "\n",
              "#sk-container-id-1 div.sk-toggleable__content pre {\n",
              "  margin: 0.2em;\n",
              "  border-radius: 0.25em;\n",
              "  color: var(--sklearn-color-text);\n",
              "  /* unfitted */\n",
              "  background-color: var(--sklearn-color-unfitted-level-0);\n",
              "}\n",
              "\n",
              "#sk-container-id-1 div.sk-toggleable__content.fitted pre {\n",
              "  /* unfitted */\n",
              "  background-color: var(--sklearn-color-fitted-level-0);\n",
              "}\n",
              "\n",
              "#sk-container-id-1 input.sk-toggleable__control:checked~div.sk-toggleable__content {\n",
              "  /* Expand drop-down */\n",
              "  max-height: 200px;\n",
              "  max-width: 100%;\n",
              "  overflow: auto;\n",
              "}\n",
              "\n",
              "#sk-container-id-1 input.sk-toggleable__control:checked~label.sk-toggleable__label-arrow:before {\n",
              "  content: \"▾\";\n",
              "}\n",
              "\n",
              "/* Pipeline/ColumnTransformer-specific style */\n",
              "\n",
              "#sk-container-id-1 div.sk-label input.sk-toggleable__control:checked~label.sk-toggleable__label {\n",
              "  color: var(--sklearn-color-text);\n",
              "  background-color: var(--sklearn-color-unfitted-level-2);\n",
              "}\n",
              "\n",
              "#sk-container-id-1 div.sk-label.fitted input.sk-toggleable__control:checked~label.sk-toggleable__label {\n",
              "  background-color: var(--sklearn-color-fitted-level-2);\n",
              "}\n",
              "\n",
              "/* Estimator-specific style */\n",
              "\n",
              "/* Colorize estimator box */\n",
              "#sk-container-id-1 div.sk-estimator input.sk-toggleable__control:checked~label.sk-toggleable__label {\n",
              "  /* unfitted */\n",
              "  background-color: var(--sklearn-color-unfitted-level-2);\n",
              "}\n",
              "\n",
              "#sk-container-id-1 div.sk-estimator.fitted input.sk-toggleable__control:checked~label.sk-toggleable__label {\n",
              "  /* fitted */\n",
              "  background-color: var(--sklearn-color-fitted-level-2);\n",
              "}\n",
              "\n",
              "#sk-container-id-1 div.sk-label label.sk-toggleable__label,\n",
              "#sk-container-id-1 div.sk-label label {\n",
              "  /* The background is the default theme color */\n",
              "  color: var(--sklearn-color-text-on-default-background);\n",
              "}\n",
              "\n",
              "/* On hover, darken the color of the background */\n",
              "#sk-container-id-1 div.sk-label:hover label.sk-toggleable__label {\n",
              "  color: var(--sklearn-color-text);\n",
              "  background-color: var(--sklearn-color-unfitted-level-2);\n",
              "}\n",
              "\n",
              "/* Label box, darken color on hover, fitted */\n",
              "#sk-container-id-1 div.sk-label.fitted:hover label.sk-toggleable__label.fitted {\n",
              "  color: var(--sklearn-color-text);\n",
              "  background-color: var(--sklearn-color-fitted-level-2);\n",
              "}\n",
              "\n",
              "/* Estimator label */\n",
              "\n",
              "#sk-container-id-1 div.sk-label label {\n",
              "  font-family: monospace;\n",
              "  font-weight: bold;\n",
              "  display: inline-block;\n",
              "  line-height: 1.2em;\n",
              "}\n",
              "\n",
              "#sk-container-id-1 div.sk-label-container {\n",
              "  text-align: center;\n",
              "}\n",
              "\n",
              "/* Estimator-specific */\n",
              "#sk-container-id-1 div.sk-estimator {\n",
              "  font-family: monospace;\n",
              "  border: 1px dotted var(--sklearn-color-border-box);\n",
              "  border-radius: 0.25em;\n",
              "  box-sizing: border-box;\n",
              "  margin-bottom: 0.5em;\n",
              "  /* unfitted */\n",
              "  background-color: var(--sklearn-color-unfitted-level-0);\n",
              "}\n",
              "\n",
              "#sk-container-id-1 div.sk-estimator.fitted {\n",
              "  /* fitted */\n",
              "  background-color: var(--sklearn-color-fitted-level-0);\n",
              "}\n",
              "\n",
              "/* on hover */\n",
              "#sk-container-id-1 div.sk-estimator:hover {\n",
              "  /* unfitted */\n",
              "  background-color: var(--sklearn-color-unfitted-level-2);\n",
              "}\n",
              "\n",
              "#sk-container-id-1 div.sk-estimator.fitted:hover {\n",
              "  /* fitted */\n",
              "  background-color: var(--sklearn-color-fitted-level-2);\n",
              "}\n",
              "\n",
              "/* Specification for estimator info (e.g. \"i\" and \"?\") */\n",
              "\n",
              "/* Common style for \"i\" and \"?\" */\n",
              "\n",
              ".sk-estimator-doc-link,\n",
              "a:link.sk-estimator-doc-link,\n",
              "a:visited.sk-estimator-doc-link {\n",
              "  float: right;\n",
              "  font-size: smaller;\n",
              "  line-height: 1em;\n",
              "  font-family: monospace;\n",
              "  background-color: var(--sklearn-color-background);\n",
              "  border-radius: 1em;\n",
              "  height: 1em;\n",
              "  width: 1em;\n",
              "  text-decoration: none !important;\n",
              "  margin-left: 1ex;\n",
              "  /* unfitted */\n",
              "  border: var(--sklearn-color-unfitted-level-1) 1pt solid;\n",
              "  color: var(--sklearn-color-unfitted-level-1);\n",
              "}\n",
              "\n",
              ".sk-estimator-doc-link.fitted,\n",
              "a:link.sk-estimator-doc-link.fitted,\n",
              "a:visited.sk-estimator-doc-link.fitted {\n",
              "  /* fitted */\n",
              "  border: var(--sklearn-color-fitted-level-1) 1pt solid;\n",
              "  color: var(--sklearn-color-fitted-level-1);\n",
              "}\n",
              "\n",
              "/* On hover */\n",
              "div.sk-estimator:hover .sk-estimator-doc-link:hover,\n",
              ".sk-estimator-doc-link:hover,\n",
              "div.sk-label-container:hover .sk-estimator-doc-link:hover,\n",
              ".sk-estimator-doc-link:hover {\n",
              "  /* unfitted */\n",
              "  background-color: var(--sklearn-color-unfitted-level-3);\n",
              "  color: var(--sklearn-color-background);\n",
              "  text-decoration: none;\n",
              "}\n",
              "\n",
              "div.sk-estimator.fitted:hover .sk-estimator-doc-link.fitted:hover,\n",
              ".sk-estimator-doc-link.fitted:hover,\n",
              "div.sk-label-container:hover .sk-estimator-doc-link.fitted:hover,\n",
              ".sk-estimator-doc-link.fitted:hover {\n",
              "  /* fitted */\n",
              "  background-color: var(--sklearn-color-fitted-level-3);\n",
              "  color: var(--sklearn-color-background);\n",
              "  text-decoration: none;\n",
              "}\n",
              "\n",
              "/* Span, style for the box shown on hovering the info icon */\n",
              ".sk-estimator-doc-link span {\n",
              "  display: none;\n",
              "  z-index: 9999;\n",
              "  position: relative;\n",
              "  font-weight: normal;\n",
              "  right: .2ex;\n",
              "  padding: .5ex;\n",
              "  margin: .5ex;\n",
              "  width: min-content;\n",
              "  min-width: 20ex;\n",
              "  max-width: 50ex;\n",
              "  color: var(--sklearn-color-text);\n",
              "  box-shadow: 2pt 2pt 4pt #999;\n",
              "  /* unfitted */\n",
              "  background: var(--sklearn-color-unfitted-level-0);\n",
              "  border: .5pt solid var(--sklearn-color-unfitted-level-3);\n",
              "}\n",
              "\n",
              ".sk-estimator-doc-link.fitted span {\n",
              "  /* fitted */\n",
              "  background: var(--sklearn-color-fitted-level-0);\n",
              "  border: var(--sklearn-color-fitted-level-3);\n",
              "}\n",
              "\n",
              ".sk-estimator-doc-link:hover span {\n",
              "  display: block;\n",
              "}\n",
              "\n",
              "/* \"?\"-specific style due to the `<a>` HTML tag */\n",
              "\n",
              "#sk-container-id-1 a.estimator_doc_link {\n",
              "  float: right;\n",
              "  font-size: 1rem;\n",
              "  line-height: 1em;\n",
              "  font-family: monospace;\n",
              "  background-color: var(--sklearn-color-background);\n",
              "  border-radius: 1rem;\n",
              "  height: 1rem;\n",
              "  width: 1rem;\n",
              "  text-decoration: none;\n",
              "  /* unfitted */\n",
              "  color: var(--sklearn-color-unfitted-level-1);\n",
              "  border: var(--sklearn-color-unfitted-level-1) 1pt solid;\n",
              "}\n",
              "\n",
              "#sk-container-id-1 a.estimator_doc_link.fitted {\n",
              "  /* fitted */\n",
              "  border: var(--sklearn-color-fitted-level-1) 1pt solid;\n",
              "  color: var(--sklearn-color-fitted-level-1);\n",
              "}\n",
              "\n",
              "/* On hover */\n",
              "#sk-container-id-1 a.estimator_doc_link:hover {\n",
              "  /* unfitted */\n",
              "  background-color: var(--sklearn-color-unfitted-level-3);\n",
              "  color: var(--sklearn-color-background);\n",
              "  text-decoration: none;\n",
              "}\n",
              "\n",
              "#sk-container-id-1 a.estimator_doc_link.fitted:hover {\n",
              "  /* fitted */\n",
              "  background-color: var(--sklearn-color-fitted-level-3);\n",
              "}\n",
              "</style><div id=\"sk-container-id-1\" class=\"sk-top-container\"><div class=\"sk-text-repr-fallback\"><pre>RandomForestClassifier(random_state=42)</pre><b>In a Jupyter environment, please rerun this cell to show the HTML representation or trust the notebook. <br />On GitHub, the HTML representation is unable to render, please try loading this page with nbviewer.org.</b></div><div class=\"sk-container\" hidden><div class=\"sk-item\"><div class=\"sk-estimator fitted sk-toggleable\"><input class=\"sk-toggleable__control sk-hidden--visually\" id=\"sk-estimator-id-1\" type=\"checkbox\" checked><label for=\"sk-estimator-id-1\" class=\"sk-toggleable__label fitted sk-toggleable__label-arrow fitted\">&nbsp;&nbsp;RandomForestClassifier<a class=\"sk-estimator-doc-link fitted\" rel=\"noreferrer\" target=\"_blank\" href=\"https://scikit-learn.org/1.5/modules/generated/sklearn.ensemble.RandomForestClassifier.html\">?<span>Documentation for RandomForestClassifier</span></a><span class=\"sk-estimator-doc-link fitted\">i<span>Fitted</span></span></label><div class=\"sk-toggleable__content fitted\"><pre>RandomForestClassifier(random_state=42)</pre></div> </div></div></div></div>"
            ]
          },
          "metadata": {},
          "execution_count": 54
        }
      ]
    },
    {
      "cell_type": "code",
      "source": [
        "import pandas as pd\n",
        "from sklearn.model_selection import train_test_split\n",
        "from sklearn.ensemble import RandomForestClassifier\n",
        "\n",
        "# Step 1: Perform one-hot encoding before train-test split\n",
        "# Make sure you have same columns for encoding in both train and test sets\n",
        "columns_to_encode = ['status', 'hours_spent', 'extracurricular_involvement', 'income_bracket']\n",
        "X_encoded = pd.get_dummies(X, columns=columns_to_encode)\n",
        "\n",
        "# Step 2: Train-Test Split (80-20 split)\n",
        "X_train, X_test, y_train, y_test = train_test_split(X_encoded, y, test_size=0.2, random_state=42)\n",
        "\n",
        "# Step 3: Build the RandomForestClassifier model\n",
        "model = RandomForestClassifier(n_estimators=100, random_state=42)\n",
        "model.fit(X_train, y_train)\n",
        "\n",
        "# Step 4: Make predictions and evaluate\n",
        "y_pred = model.predict(X_test)"
      ],
      "metadata": {
        "id": "3MurGOJthoEr"
      },
      "id": "3MurGOJthoEr",
      "execution_count": 55,
      "outputs": []
    },
    {
      "cell_type": "code",
      "source": [
        "# Step 9: Make predictions and evaluate\n",
        "\n",
        "y_pred = model.predict(X_test)"
      ],
      "metadata": {
        "id": "1HGIgVN88wap"
      },
      "id": "1HGIgVN88wap",
      "execution_count": 56,
      "outputs": []
    },
    {
      "cell_type": "code",
      "execution_count": 57,
      "id": "7d235ee0",
      "metadata": {
        "id": "7d235ee0",
        "colab": {
          "base_uri": "https://localhost:8080/"
        },
        "outputId": "ca5218c9-20bf-4f09-e104-60fa8177008a"
      },
      "outputs": [
        {
          "output_type": "stream",
          "name": "stdout",
          "text": [
            "Accuracy: 0.5882693804351504\n"
          ]
        },
        {
          "output_type": "stream",
          "name": "stderr",
          "text": [
            "/usr/local/lib/python3.10/dist-packages/sklearn/metrics/_classification.py:1531: UndefinedMetricWarning: Precision is ill-defined and being set to 0.0 in labels with no predicted samples. Use `zero_division` parameter to control this behavior.\n",
            "  _warn_prf(average, modifier, f\"{metric.capitalize()} is\", len(result))\n",
            "/usr/local/lib/python3.10/dist-packages/sklearn/metrics/_classification.py:1531: UndefinedMetricWarning: Precision is ill-defined and being set to 0.0 in labels with no predicted samples. Use `zero_division` parameter to control this behavior.\n",
            "  _warn_prf(average, modifier, f\"{metric.capitalize()} is\", len(result))\n",
            "/usr/local/lib/python3.10/dist-packages/sklearn/metrics/_classification.py:1531: UndefinedMetricWarning: Precision is ill-defined and being set to 0.0 in labels with no predicted samples. Use `zero_division` parameter to control this behavior.\n",
            "  _warn_prf(average, modifier, f\"{metric.capitalize()} is\", len(result))\n"
          ]
        },
        {
          "output_type": "stream",
          "name": "stdout",
          "text": [
            "Classification Report:\n",
            "               precision    recall  f1-score   support\n",
            "\n",
            "           0       0.00      0.00      0.00     97343\n",
            "           1       0.59      1.00      0.74    139081\n",
            "\n",
            "    accuracy                           0.59    236424\n",
            "   macro avg       0.29      0.50      0.37    236424\n",
            "weighted avg       0.35      0.59      0.44    236424\n",
            "\n",
            "Confusion Matrix:\n",
            " [[     0  97343]\n",
            " [     0 139081]]\n"
          ]
        }
      ],
      "source": [
        "# Step 10: Evaluation metrics\n",
        "accuracy = accuracy_score(y_test, y_pred)\n",
        "print(\"Accuracy:\", accuracy)\n",
        "print(\"Classification Report:\\n\", classification_report(y_test, y_pred))\n",
        "print(\"Confusion Matrix:\\n\", confusion_matrix(y_test, y_pred))\n",
        "\n"
      ]
    },
    {
      "cell_type": "markdown",
      "source": [
        "Precision = 0.59:\n",
        "\n",
        "This means 59% of the predictions for \"pass\" are correct.\n",
        "\n",
        "Recall = 1.00: The recall is 100%, meaning all students who passed were correctly identified."
      ],
      "metadata": {
        "id": "C9-UcjyhyttY"
      },
      "id": "C9-UcjyhyttY"
    },
    {
      "cell_type": "code",
      "source": [
        "# Feature importance analysis\n",
        "feature_importance = pd.DataFrame({\n",
        "    'Feature': X_encoded.columns,  # Use X_encoded.columns instead of X.columns\n",
        "    'Importance': model.feature_importances_\n",
        "}).sort_values(by='Importance', ascending=False)\n",
        "\n",
        "print(\"Feature Importance:\\n\", feature_importance)"
      ],
      "metadata": {
        "colab": {
          "base_uri": "https://localhost:8080/"
        },
        "id": "ll9tMJ_Gi48_",
        "outputId": "1f19a9fb-e311-4fa3-cf69-ee3de46ab1e9"
      },
      "id": "ll9tMJ_Gi48_",
      "execution_count": 58,
      "outputs": [
        {
          "output_type": "stream",
          "name": "stdout",
          "text": [
            "Feature Importance:\n",
            "                            Feature  Importance\n",
            "6            income_bracket_Medium    0.577380\n",
            "5               income_bracket_Low    0.235465\n",
            "4              income_bracket_High    0.119434\n",
            "1                  hours_spent_2.0    0.031684\n",
            "0                  hours_spent_1.0    0.021311\n",
            "2                  hours_spent_3.0    0.014726\n",
            "3  extracurricular_involvement_0.0    0.000000\n"
          ]
        }
      ]
    },
    {
      "cell_type": "markdown",
      "source": [
        "Explanation:\n",
        "\n",
        "\n",
        "income_bracket_Medium (0.577): This is the most important feature in the model. It contributes the most to the prediction of whether a student will pass or fail. Students in the \"Medium\" income bracket seem to have a strong impact on the outcome.\n",
        "\n",
        "income_bracket_Low (0.235): Students in the \"Low\" income bracket also have a significant impact on the prediction but less than those in the \"Medium\" bracket.\n",
        "\n",
        "income_bracket_High (0.119): The \"High\" income bracket has a lesser but still notable influence compared to \"Medium\" and \"Low\" brackets.\n",
        "\n",
        "hours_spent features (2.0, 1.0, 3.0): Time spent on studying or coursework has less of an influence on the outcome compared to income bracket, but it still matters.\n",
        "\n",
        "extracurricular_involvement_0.0 (0.000): The model found no influence of extracurricular involvement in predicting whether a student passes or fails, as indicated by the zero importance score"
      ],
      "metadata": {
        "id": "9SVtqpNuyJ5J"
      },
      "id": "9SVtqpNuyJ5J"
    },
    {
      "cell_type": "code",
      "source": [],
      "metadata": {
        "id": "7Y60cIFWySI0"
      },
      "id": "7Y60cIFWySI0",
      "execution_count": null,
      "outputs": []
    }
  ],
  "metadata": {
    "kernelspec": {
      "display_name": "Python 3 (ipykernel)",
      "language": "python",
      "name": "python3"
    },
    "language_info": {
      "codemirror_mode": {
        "name": "ipython",
        "version": 3
      },
      "file_extension": ".py",
      "mimetype": "text/x-python",
      "name": "python",
      "nbconvert_exporter": "python",
      "pygments_lexer": "ipython3",
      "version": "3.11.5"
    },
    "colab": {
      "provenance": [],
      "include_colab_link": true
    }
  },
  "nbformat": 4,
  "nbformat_minor": 5
}